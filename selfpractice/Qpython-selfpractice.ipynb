{
 "cells": [
  {
   "cell_type": "markdown",
   "metadata": {},
   "source": [
    "# QUIN F SELF-PRACTICE"
   ]
  },
  {
   "cell_type": "markdown",
   "metadata": {},
   "source": [
    "## Instructions\n",
    "- For each of the questions below, write a function that accepts an input and produces the desired result\n",
    "<br>\n",
    "<br> <b>Example question</b>: Write a function to check if an integer is even/odd?\n",
    "<br> <b>Example Input1</b>: 15\n",
    "<br> <b>Expected Output1</b>: Odd\n",
    "    <br> <b>Example Input2</b>: 20\n",
    "    <br> <b>Expected Output2</b>: Even"
   ]
  },
  {
   "cell_type": "markdown",
   "metadata": {},
   "source": [
    "## Question 1\n",
    "### Determine whether an integer is a palindrome. An integer is a palidrome when it reads the same backwards and forwards.\n",
    "\n",
    "Example: 121 is a palindrome but 123 is not"
   ]
  },
  {
   "cell_type": "code",
   "execution_count": null,
   "metadata": {},
   "outputs": [],
   "source": [
    "input1_1 = 121\n",
    "input1_2 = 123\n",
    "input1_3 = 34543\n",
    "input1_4 = 123456"
   ]
  },
  {
   "cell_type": "code",
   "execution_count": 6,
   "metadata": {},
   "outputs": [
    {
     "data": {
      "text/plain": [
       "True"
      ]
     },
     "metadata": {},
     "output_type": "display_data"
    },
    {
     "data": {
      "text/plain": [
       "False"
      ]
     },
     "metadata": {},
     "output_type": "display_data"
    },
    {
     "data": {
      "text/plain": [
       "True"
      ]
     },
     "metadata": {},
     "output_type": "display_data"
    },
    {
     "data": {
      "text/plain": [
       "False"
      ]
     },
     "metadata": {},
     "output_type": "display_data"
    }
   ],
   "source": [
    "from IPython.display import display\n",
    "\n",
    "def is_palindrome(n):# convert the number to string to easily reverse it\n",
    "    #- turning numbers into words(ex 121, think of it as \"one-two-one)\n",
    "    s = str(n)\n",
    "    # check if string is the same forwards and backwards \n",
    "    #same word would look like if we wrote backwards (ex \"one-two-one = \"one-two-one)\n",
    "    return s == s[::-1]\n",
    "\n",
    "\n",
    "#  display function to show results\n",
    "input1_1 = 121\n",
    "display(is_palindrome(input1_1))  #displays True\n",
    "\n",
    "input1_2 = 123\n",
    "display(is_palindrome(input1_2))  # False\n",
    "\n",
    "input1_3 = 34543\n",
    "display(is_palindrome(input1_3))  # True\n",
    "\n",
    "input1_4 = 123456\n",
    "display(is_palindrome(input1_4))  #False\n"
   ]
  },
  {
   "cell_type": "markdown",
   "metadata": {},
   "source": [
    "## Question 2\n",
    "### Given an integer <i>n</i>, return true if it is a power of two. Otherwise, return false.\n",
    "### An integer <i>n</i> is a power of two, if there exists an integer <i>x</i> such that <u>n == 2</u><sup>x</sup>\n",
    "<b>Constraints</b>: -2<sup>31</sup> <= n <= 2<sup>31</sup>-1"
   ]
  },
  {
   "cell_type": "code",
   "execution_count": null,
   "metadata": {},
   "outputs": [],
   "source": [
    "input2_1 = 1\n",
    "input2_2 = 2\n",
    "input2_3 = 3\n",
    "input2_4 = 4\n",
    "input2_5 = 8"
   ]
  },
  {
   "cell_type": "code",
   "execution_count": 8,
   "metadata": {},
   "outputs": [
    {
     "data": {
      "text/plain": [
       "True"
      ]
     },
     "metadata": {},
     "output_type": "display_data"
    },
    {
     "data": {
      "text/plain": [
       "True"
      ]
     },
     "metadata": {},
     "output_type": "display_data"
    },
    {
     "data": {
      "text/plain": [
       "False"
      ]
     },
     "metadata": {},
     "output_type": "display_data"
    },
    {
     "data": {
      "text/plain": [
       "True"
      ]
     },
     "metadata": {},
     "output_type": "display_data"
    },
    {
     "data": {
      "text/plain": [
       "True"
      ]
     },
     "metadata": {},
     "output_type": "display_data"
    },
    {
     "data": {
      "text/plain": [
       "False"
      ]
     },
     "metadata": {},
     "output_type": "display_data"
    },
    {
     "data": {
      "text/plain": [
       "False"
      ]
     },
     "metadata": {},
     "output_type": "display_data"
    }
   ],
   "source": [
    "\n",
    "def is_power_of_two(n):\n",
    "    #  its power of two if: > 0  zero (since 0 and neg numbers are not powers of two)\n",
    "    # n & (n - 1) should be zero- checks if there is only one '1' in the binary representation of n\n",
    "    # subtracting 1 from n flips all bits up to and including the first '1' from the right\n",
    "    # so n and n-1 have no bits in common\n",
    "    return n > 0 and (n & (n - 1)) == 0\n",
    "\n",
    "# results of calling is_power_of_two on various test cases\n",
    "display(is_power_of_two(1))    #  True,  2^0 = 1 and it meets the conditions for a power of two\n",
    "display(is_power_of_two(2))    #  True,  2^1 = 2 and it meets the conditions for a power of two\n",
    "display(is_power_of_two(3))    # False, 3 is not a power of two (binary 11)\n",
    "display(is_power_of_two(4))    #  True, 2^2 = 4 and it meets the conditions for a power of two\n",
    "display(is_power_of_two(16))   #  True,  2^4 = 16 and it meets the conditions for a power of two\n",
    "display(is_power_of_two(-16))  # False,  negative numbers are not powers of two\n",
    "display(is_power_of_two(0))    # False,  zero is not a power of two"
   ]
  },
  {
   "cell_type": "markdown",
   "metadata": {},
   "source": [
    "## Question 3\n",
    "### Given an array <i>A</i> of strings made only from lowercase letters, return a list of all characters that show up in all strings within the list (including duplicates). For example, if a character occurs 3 times in all strings but not 4 times, you need to include that character three times in the final answer.\n",
    "### You may return the answer in any order.\n",
    "<b>Note</b>:\n",
    "- 1 <= A.length <= 100\n",
    "- 1 <= A[i].length <= 100\n",
    "- A[i][j] is a lowercase letter\n",
    "\n",
    "Example: Input = ['bella','label', roller], Output = ['e', 'l', 'l']"
   ]
  },
  {
   "cell_type": "code",
   "execution_count": null,
   "metadata": {},
   "outputs": [],
   "source": [
    "input3_1 = ['bella','label','roller']\n",
    "input3_2 = ['happy','chopper','phase']\n",
    "input3_3 = ['truth','true','try']"
   ]
  },
  {
   "cell_type": "code",
   "execution_count": 9,
   "metadata": {},
   "outputs": [
    {
     "data": {
      "text/plain": [
       "['e', 'l', 'l']"
      ]
     },
     "metadata": {},
     "output_type": "display_data"
    },
    {
     "data": {
      "text/plain": [
       "['h', 'p']"
      ]
     },
     "metadata": {},
     "output_type": "display_data"
    },
    {
     "data": {
      "text/plain": [
       "['r', 't']"
      ]
     },
     "metadata": {},
     "output_type": "display_data"
    }
   ],
   "source": [
    "def common_chars(A):\n",
    "    from collections import Counter\n",
    "    # setup a count of infinite for every letter in the alphabet to track the smallest no of times each letter appears in all words\n",
    "    common_count = {chr(i): float('inf') for i in range(ord('a'), ord('z') + 1)}\n",
    "\n",
    "    # check each word in the list\n",
    "    for string in A:\n",
    "        # Count how many times each letter appears in this word\n",
    "        char_count = Counter(string)\n",
    "        # Compare this count with  record of smallest counts.\n",
    "        for char in common_count:\n",
    "            if char in char_count:\n",
    "                # if the letter is in the word, check if we found it fewer times than before.\n",
    "                # if so, update our record to this new lower count\n",
    "                common_count[char] = min(common_count[char], char_count[char])\n",
    "            else:\n",
    "                # if the letter isn't in the word at all, it can't be common\n",
    "                common_count[char] = 0  \n",
    "\n",
    "    # after words are checked - gather the letters that are common to all\n",
    "    result = []\n",
    "    for char, count in common_count.items():\n",
    "        # add each common letter to the result list as many times as it appears in every word\n",
    "        result.extend([char] * count)\n",
    "\n",
    "    return result\n",
    "\n",
    "# inputs\n",
    "input3_1 = ['bella', 'label', 'roller']\n",
    "input3_2 = ['happy', 'chopper', 'phase']\n",
    "input3_3 = ['truth', 'true', 'try']\n",
    "\n",
    "\n",
    "display(common_chars(input3_1))  # check common letters in the first list\n",
    "display(common_chars(input3_2))  #check common letters in the second list\n",
    "display(common_chars(input3_3))  #ceck common letters in the third list\n",
    "\n"
   ]
  },
  {
   "cell_type": "markdown",
   "metadata": {},
   "source": [
    "## Question 4\n",
    "### Given a string, find the first non-repeating character in it and return its index. If it doesn't exist, return -1.\n",
    "<b>Note</b>: You may assume the string contains only lowercase English letters.\n",
    "<br>Example: s = 'leetcode' return 0\n",
    "<br>Explanation: The first non-repeating letter is l, it has the index of 0"
   ]
  },
  {
   "cell_type": "code",
   "execution_count": null,
   "metadata": {},
   "outputs": [],
   "source": [
    "input4_1 = 'leetcode'\n",
    "input4_2 = 'adam'\n",
    "input4_3 = 'sees'\n",
    "input4_4 = 'noone'"
   ]
  },
  {
   "cell_type": "code",
   "execution_count": 15,
   "metadata": {},
   "outputs": [
    {
     "data": {
      "text/plain": [
       "0"
      ]
     },
     "metadata": {},
     "output_type": "display_data"
    },
    {
     "data": {
      "text/plain": [
       "1"
      ]
     },
     "metadata": {},
     "output_type": "display_data"
    },
    {
     "data": {
      "text/plain": [
       "-1"
      ]
     },
     "metadata": {},
     "output_type": "display_data"
    },
    {
     "data": {
      "text/plain": [
       "4"
      ]
     },
     "metadata": {},
     "output_type": "display_data"
    }
   ],
   "source": [
    "from collections import Counter\n",
    "\n",
    "def first_uniq_char(s):\n",
    "    \n",
    "    #count how many times each letter appears in the string.\n",
    "    char_count = Counter(s)\n",
    "\n",
    "    #go through the string again from the beginning\n",
    "    for index, char in enumerate(s):\n",
    "        # Check if letter appears only once in the string\n",
    "        if char_count[char] == 1:\n",
    "            # if it does, return position (index) of this letter\n",
    "            return index\n",
    "\n",
    "    # if it go throughwhole string & don't find a non-repeating character = return -1\n",
    "    return -1\n",
    "\n",
    "# test the function with provided inputs\n",
    "input4_1 = 'leetcode'\n",
    "input4_2 = 'adam'\n",
    "input4_3 = 'sees'\n",
    "input4_4 = 'noone'\n",
    "\n",
    "\n",
    "display(first_uniq_char(input4_1))  # Should show 0\n",
    "display(first_uniq_char(input4_2))  # Should show 1\n",
    "display(first_uniq_char(input4_3))  # Should show-1, because all characters repeat\n",
    "display(first_uniq_char(input4_4))  # Should show 2\n",
    "\n"
   ]
  },
  {
   "cell_type": "markdown",
   "metadata": {},
   "source": [
    "## Question 5\n",
    "### Given a binary array, find the maximum number of consecutive 1s in this array.\n",
    "<b>Note</b>:\n",
    "- The input array will only contain 0 and 1.\n",
    "- The length of input array is a positive integer and will not exceed 10,000\n",
    "<br>Example: Input = [1,1,0,1,1,1], Output = 3\n",
    "<br>Explanation:\n",
    "- The first two digits or the last three digits are consecutive 1s\n",
    "- The maximum number of consecutive 1s is 3"
   ]
  },
  {
   "cell_type": "code",
   "execution_count": null,
   "metadata": {},
   "outputs": [],
   "source": [
    "input5_1 = [1,1,0,1,1,1]\n",
    "input5_2 = [1,0,1,0,1,0,1,1,1,0,1,1]\n",
    "input5_3 = [0,0,1,1,1,0,0,0,0,1,1]"
   ]
  },
  {
   "cell_type": "code",
   "execution_count": 16,
   "metadata": {},
   "outputs": [
    {
     "data": {
      "text/plain": [
       "3"
      ]
     },
     "metadata": {},
     "output_type": "display_data"
    },
    {
     "data": {
      "text/plain": [
       "3"
      ]
     },
     "metadata": {},
     "output_type": "display_data"
    },
    {
     "data": {
      "text/plain": [
       "3"
      ]
     },
     "metadata": {},
     "output_type": "display_data"
    }
   ],
   "source": [
    "def find_max_consecutive_ones(nums):\n",
    "    max_consecutive = 0  #will keep track of the maximum streak of 1s\n",
    "    current_count = 0    #counts the current streak of 1s\n",
    "    \n",
    "    #  looping through each number in the input list\n",
    "    for num in nums:\n",
    "        if num == 1:\n",
    "            # if number is 1, increment the current streak counter\n",
    "            current_count += 1\n",
    "            # update the maximum streak if the current one is longer\n",
    "            max_consecutive = max(max_consecutive, current_count)\n",
    "        else:\n",
    "            # if the number is 0, reset the current streak counter\n",
    "            current_count = 0\n",
    "    \n",
    "    #after loop, return the longest streak of consecutive 1s found\n",
    "    return max_consecutive\n",
    "\n",
    "\n",
    "input5_1 = [1,1,0,1,1,1]\n",
    "input5_2 = [1,0,1,0,1,0,1,1,1,0,1,1]\n",
    "input5_3 = [0,0,1,1,1,0,0,0,0,1,1]\n",
    "\n",
    "# Running the function on the provided inputs\n",
    "max_ones_input5_1 = find_max_consecutive_ones(input5_1)\n",
    "max_ones_input5_2 = find_max_consecutive_ones(input5_2)\n",
    "max_ones_input5_3 = find_max_consecutive_ones(input5_3)\n",
    "\n",
    "display(max_ones_input5_1)  # Should show 3\n",
    "display(max_ones_input5_2)  # Should show 3\n",
    "display(max_ones_input5_3)  # Should show 3\n",
    "\n"
   ]
  },
  {
   "cell_type": "code",
   "execution_count": null,
   "metadata": {},
   "outputs": [],
   "source": []
  }
 ],
 "metadata": {
  "kernelspec": {
   "display_name": "Python 3 (ipykernel)",
   "language": "python",
   "name": "python3"
  },
  "language_info": {
   "codemirror_mode": {
    "name": "ipython",
    "version": 3
   },
   "file_extension": ".py",
   "mimetype": "text/x-python",
   "name": "python",
   "nbconvert_exporter": "python",
   "pygments_lexer": "ipython3",
   "version": "3.11.5"
  }
 },
 "nbformat": 4,
 "nbformat_minor": 4
}
